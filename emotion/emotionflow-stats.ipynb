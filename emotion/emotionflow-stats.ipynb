{
 "cells": [
  {
   "cell_type": "markdown",
   "metadata": {},
   "source": [
    "# Emotionflow Metaflow stats"
   ]
  },
  {
   "cell_type": "markdown",
   "metadata": {},
   "source": [
    "Analysis of metaflow saved state data.\n",
    "Run the metaflow once so you may access the saved data here:\n",
    "\n",
    "```\n",
    "python emotionflow.py --environment=conda run\n",
    "python emotionflow.py --environment=conda show # shows steps that would be executed\n",
    "python emotionflow.py --environment=conda resume # resume just before failed step\n",
    "python emotionflow.py --environment=conda resume stepname # resume from stepname\n",
    "```"
   ]
  },
  {
   "cell_type": "code",
   "execution_count": 5,
   "metadata": {},
   "outputs": [],
   "source": [
    "from metaflow import Flow, get_metadata"
   ]
  },
  {
   "cell_type": "code",
   "execution_count": 6,
   "metadata": {},
   "outputs": [
    {
     "name": "stdout",
     "output_type": "stream",
     "text": [
      "Using metadata provider: local@/home/lukas/git/dajare/emotion\n"
     ]
    }
   ],
   "source": [
    "print(\"Using metadata provider: %s\" % get_metadata())"
   ]
  },
  {
   "cell_type": "code",
   "execution_count": 7,
   "metadata": {},
   "outputs": [
    {
     "name": "stdout",
     "output_type": "stream",
     "text": [
      "Using analysis from 'Run('EmotionFlow/1582192689081816')'\n"
     ]
    }
   ],
   "source": [
    "run = Flow(\"EmotionFlow\").latest_successful_run\n",
    "print(\"Using analysis from '%s'\" % str(run))"
   ]
  },
  {
   "cell_type": "code",
   "execution_count": 12,
   "metadata": {},
   "outputs": [
    {
     "data": {
      "text/plain": [
       "'2020-02-20T09:58:09.%fZ'"
      ]
     },
     "execution_count": 12,
     "metadata": {},
     "output_type": "execute_result"
    }
   ],
   "source": [
    "run.created_at"
   ]
  },
  {
   "cell_type": "code",
   "execution_count": 13,
   "metadata": {},
   "outputs": [
    {
     "name": "stdout",
     "output_type": "stream",
     "text": [
      "       Word Katakana Emotion\n",
      "0         哀       アイ       悲\n",
      "1         愛       アイ       好\n",
      "2     相いれない   アイイレナイ       嫌\n",
      "3        哀感     アイカン       悲\n",
      "4        愛敬    アイキョウ      好親\n",
      "...     ...      ...     ...\n",
      "1973    悪賢い   ワルガシコイ       嫌\n",
      "1974   悪びれる    ワルビレル       謝\n",
      "1975  我を忘れる  ワレオワスレル       興\n",
      "1976     わぁ       ワー       喜\n",
      "1977    わーい      ワーイ       喜\n",
      "\n",
      "[1978 rows x 3 columns]\n",
      "        Emotion Symbol\n",
      "0           安らぎ      安\n",
      "1           楽しさ      楽\n",
      "2           親しみ      親\n",
      "3         尊敬・尊さ      尊\n",
      "4            感謝      感\n",
      "5        気持ちが良い      気\n",
      "6          誇らしい      誇\n",
      "7            感動      動\n",
      "8            喜び      喜\n",
      "9           悲しさ      悲\n",
      "10          寂しさ      寂\n",
      "11           不満      不\n",
      "12          切なさ      切\n",
      "13          苦しさ      苦\n",
      "14           不安      ふ\n",
      "15           憂鬱      鬱\n",
      "16           辛さ      辛\n",
      "17           好き      好\n",
      "18           嫌悪      嫌\n",
      "19        恥ずかしい      恥\n",
      "20           焦り      焦\n",
      "21           驚き      驚\n",
      "22           怒り      怒\n",
      "23          幸福感      幸\n",
      "24           恨み      恨\n",
      "25  恐れ（恐縮等の意味で）      恐\n",
      "26           恐怖      怖\n",
      "27          悔しさ      悔\n",
      "28        祝う気持ち      祝\n",
      "29           困惑      困\n",
      "30         きまずさ      き\n",
      "31           興奮      興\n",
      "32           悩み      悩\n",
      "33           願望      願\n",
      "34           失望      失\n",
      "35         あわれみ      憐\n",
      "36          見下し      見\n",
      "37           謝罪      謝\n",
      "38         ためらい      た\n",
      "39           不快      Ｆ\n",
      "40           怠さ      怠\n",
      "41          あきれ      あ\n",
      "42           心配      心\n",
      "43           緊張      緊\n",
      "44           妬み      妬\n",
      "45           憎い      憎\n",
      "46           残念      残\n",
      "47         情けない      情\n",
      "48          穏やか      穏\n"
     ]
    }
   ],
   "source": [
    "load_data = run['load'].task.data\n",
    "ecorp = load_data.ecorp\n",
    "available_emotions = run['load'].task.data.available_emotions\n",
    "print(ecorp)\n",
    "print(available_emotions)"
   ]
  },
  {
   "cell_type": "markdown",
   "metadata": {},
   "source": [
    "Check what emotions are available, multiple emotions per sentence!"
   ]
  },
  {
   "cell_type": "code",
   "execution_count": 18,
   "metadata": {},
   "outputs": [
    {
     "data": {
      "text/plain": [
       "<matplotlib.axes._subplots.AxesSubplot at 0x7fef1f8f66d0>"
      ]
     },
     "execution_count": 18,
     "metadata": {},
     "output_type": "execute_result"
    },
    {
     "data": {
      "image/png": "[encoded data removed]",
      "text/plain": [
       "<Figure size 432x288 with 1 Axes>"
      ]
     },
     "metadata": {
      "needs_background": "light"
     },
     "output_type": "display_data"
    }
   ],
   "source": [
    "ecorp.Emotion.value_counts().plot.bar()"
   ]
  },
  {
   "cell_type": "markdown",
   "metadata": {},
   "source": [
    "## Test corpus and analysis"
   ]
  },
  {
   "cell_type": "code",
   "execution_count": 14,
   "metadata": {},
   "outputs": [
    {
     "name": "stdout",
     "output_type": "stream",
     "text": [
      "['不満']\n",
      "{'不満'}\n"
     ]
    }
   ],
   "source": [
    "prepare_lookup_data = run['prepare_lookup'].task.data\n",
    "#lookup building\n",
    "print(prepare_lookup_data.elookup_raw['飽き足りる'])\n",
    "print(prepare_lookup_data.elookup['飽き足り'])"
   ]
  },
  {
   "cell_type": "markdown",
   "metadata": {},
   "source": [
    "### Load Emotionpredictor and predict some sentences"
   ]
  },
  {
   "cell_type": "code",
   "execution_count": 15,
   "metadata": {},
   "outputs": [],
   "source": [
    "import pickle\n",
    "\n",
    "import Mykytea\n",
    "opt = \"-model /usr/local/share/kytea/model.bin\"\n",
    "mk = Mykytea.Mykytea(opt)"
   ]
  },
  {
   "cell_type": "code",
   "execution_count": 16,
   "metadata": {},
   "outputs": [],
   "source": [
    "sentences = ['あなた毛布取らないで', 'あなたもう太らないで', '友達が寂しい',\n",
    "            'おお味噌か?','ひと月居てもいい？','隣には誰もいなくて彼も寂しい','カナリヤ少ない','バナナを食べましたが美味しかった',\n",
    "            '文句を言ったら怒られた']"
   ]
  },
  {
   "cell_type": "markdown",
   "metadata": {},
   "source": [
    "### Predict using pickled model"
   ]
  },
  {
   "cell_type": "code",
   "execution_count": 17,
   "metadata": {},
   "outputs": [
    {
     "data": {
      "text/plain": [
       "[('あなた毛布取らないで', {'あきれ', '困惑'}),\n",
       " ('あなたもう太らないで', set()),\n",
       " ('友達が寂しい', {'寂しさ'}),\n",
       " ('おお味噌か?', {'驚き'}),\n",
       " ('ひと月居てもいい？', set()),\n",
       " ('隣には誰もいなくて彼も寂しい', {'寂しさ'}),\n",
       " ('カナリヤ少ない', set()),\n",
       " ('バナナを食べましたが美味しかった', {'喜び', '安らぎ', '穏やか'}),\n",
       " ('文句を言ったら怒られた', {'不満', '怒り'})]"
      ]
     },
     "execution_count": 17,
     "metadata": {},
     "output_type": "execute_result"
    }
   ],
   "source": [
    "predictor = pickle.load(open(\"emotionpredictor.pkl\", \"rb\"))\n",
    "[(sentence, predictor.emotions(sentence, mk)) \n",
    " for sentence in sentences]"
   ]
  },
  {
   "cell_type": "markdown",
   "metadata": {},
   "source": [
    "### Predict using persisted model on flow from Amazon S3\n",
    "which has actually also been pickled"
   ]
  },
  {
   "cell_type": "code",
   "execution_count": 18,
   "metadata": {},
   "outputs": [
    {
     "data": {
      "text/plain": [
       "[('あなた毛布取らないで', {'あきれ', '困惑'}),\n",
       " ('あなたもう太らないで', set()),\n",
       " ('友達が寂しい', {'寂しさ'}),\n",
       " ('おお味噌か?', {'驚き'}),\n",
       " ('ひと月居てもいい？', set()),\n",
       " ('隣には誰もいなくて彼も寂しい', {'寂しさ'}),\n",
       " ('カナリヤ少ない', set()),\n",
       " ('バナナを食べましたが美味しかった', {'喜び', '安らぎ', '穏やか'}),\n",
       " ('文句を言ったら怒られた', {'不満', '怒り'})]"
      ]
     },
     "execution_count": 18,
     "metadata": {},
     "output_type": "execute_result"
    }
   ],
   "source": [
    "predictor = run['deliver_model'].task.data.predictor\n",
    "[(sentence, predictor.emotions(sentence, mk)) \n",
    " for sentence in sentences]"
   ]
  }
 ],
 "metadata": {
  "kernelspec": {
   "display_name": "Python 3",
   "language": "python",
   "name": "python3"
  },
  "language_info": {
   "codemirror_mode": {
    "name": "ipython",
    "version": 3
   },
   "file_extension": ".py",
   "mimetype": "text/x-python",
   "name": "python",
   "nbconvert_exporter": "python",
   "pygments_lexer": "ipython3",
   "version": "3.7.6"
  }
 },
 "nbformat": 4,
 "nbformat_minor": 2
}
