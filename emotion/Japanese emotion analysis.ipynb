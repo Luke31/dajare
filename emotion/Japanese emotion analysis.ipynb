{
 "cells": [
  {
   "cell_type": "markdown",
   "metadata": {},
   "source": [
    "# Japanese emotion analysis\n",
    "Based on SNOW D18: Japanese Emotional Expression Dictionary from http://www.jnlp.org/SNOW/D18\n",
    "\n",
    "Further corpuses available: https://lionbridge.ai/datasets/japanese-language-text-datasets/"
   ]
  },
  {
   "cell_type": "markdown",
   "metadata": {},
   "source": [
    "## Prerequisites\n",
    "kytea required to tokenize Japanese text. Install using\n",
    "```\n",
    "wget http://www.phontron.com/kytea/download/kytea-0.4.7.tar.gz\n",
    "tar -xvf kytea-0.4.7.tar\n",
    "cd kytea-0.4.7\n",
    "./configure\n",
    "make\n",
    "make install\n",
    "```"
   ]
  },
  {
   "cell_type": "markdown",
   "metadata": {},
   "source": [
    "## Prepare tokenizer\n",
    "Use Mykytea tokenizer to split text. Prepare also a set of kanas to avoid assigning emotions to kanas."
   ]
  },
  {
   "cell_type": "code",
   "execution_count": 1,
   "metadata": {},
   "outputs": [],
   "source": [
    "import Mykytea"
   ]
  },
  {
   "cell_type": "code",
   "execution_count": 2,
   "metadata": {},
   "outputs": [],
   "source": [
    "opt = \"-model /usr/local/share/kytea/model.bin\"\n",
    "mk = Mykytea.Mykytea(opt)"
   ]
  },
  {
   "cell_type": "code",
   "execution_count": 3,
   "metadata": {},
   "outputs": [],
   "source": [
    "# hiragana, katakana and unionedkanas\n",
    "hira = {chr(l) for l in range(12353,12439)}\n",
    "kata = {chr(l) for l in range(12449,12539)}\n",
    "kana = hira.union(kata)"
   ]
  },
  {
   "cell_type": "markdown",
   "metadata": {},
   "source": [
    "## Prepare emotion corpus\n",
    "Load emotion corpus with expressions and multiple assigned emotions per expression. \n",
    "Prepare tokenized and \"stemmed\" dictionary for emotions lookup in next step."
   ]
  },
  {
   "cell_type": "code",
   "execution_count": 4,
   "metadata": {},
   "outputs": [],
   "source": [
    "import pandas as pd"
   ]
  },
  {
   "cell_type": "code",
   "execution_count": 5,
   "metadata": {},
   "outputs": [
    {
     "name": "stdout",
     "output_type": "stream",
     "text": [
      "       Word Katakana Emotion\n",
      "0         哀       アイ       悲\n",
      "1         愛       アイ       好\n",
      "2     相いれない   アイイレナイ       嫌\n",
      "3        哀感     アイカン       悲\n",
      "4        愛敬    アイキョウ      好親\n",
      "...     ...      ...     ...\n",
      "1973    悪賢い   ワルガシコイ       嫌\n",
      "1974   悪びれる    ワルビレル       謝\n",
      "1975  我を忘れる  ワレオワスレル       興\n",
      "1976     わぁ       ワー       喜\n",
      "1977    わーい      ワーイ       喜\n",
      "\n",
      "[1978 rows x 3 columns]\n",
      "        Emotion Symbol\n",
      "0           安らぎ      安\n",
      "1           楽しさ      楽\n",
      "2           親しみ      親\n",
      "3         尊敬・尊さ      尊\n",
      "4            感謝      感\n",
      "5        気持ちが良い      気\n",
      "6          誇らしい      誇\n",
      "7            感動      動\n",
      "8            喜び      喜\n",
      "9           悲しさ      悲\n",
      "10          寂しさ      寂\n",
      "11           不満      不\n",
      "12          切なさ      切\n",
      "13          苦しさ      苦\n",
      "14           不安      ふ\n",
      "15           憂鬱      鬱\n",
      "16           辛さ      辛\n",
      "17           好き      好\n",
      "18           嫌悪      嫌\n",
      "19        恥ずかしい      恥\n",
      "20           焦り      焦\n",
      "21           驚き      驚\n",
      "22           怒り      怒\n",
      "23          幸福感      幸\n",
      "24           恨み      恨\n",
      "25  恐れ（恐縮等の意味で）      恐\n",
      "26           恐怖      怖\n",
      "27          悔しさ      悔\n",
      "28        祝う気持ち      祝\n",
      "29           困惑      困\n",
      "30         きまずさ      き\n",
      "31           興奮      興\n",
      "32           悩み      悩\n",
      "33           願望      願\n",
      "34           失望      失\n",
      "35         あわれみ      憐\n",
      "36          見下し      見\n",
      "37           謝罪      謝\n",
      "38         ためらい      た\n",
      "39           不快      Ｆ\n",
      "40           怠さ      怠\n",
      "41          あきれ      あ\n",
      "42           心配      心\n",
      "43           緊張      緊\n",
      "44           妬み      妬\n",
      "45           憎い      憎\n",
      "46           残念      残\n",
      "47         情けない      情\n",
      "48          穏やか      穏\n"
     ]
    }
   ],
   "source": [
    "ecorp = pd.read_csv('data/D18-2018.7.24.csv')\n",
    "print(ecorp)\n",
    "available_emotions = pd.read_csv('data/emotion_assignment.csv')\n",
    "print(available_emotions)"
   ]
  },
  {
   "cell_type": "markdown",
   "metadata": {},
   "source": [
    "Prepare dictionary to map short form of emotion to more understandable longer form of emtion: 悲 -> 悲しさ or 恐 -> 恐れ（恐縮等の意味で）"
   ]
  },
  {
   "cell_type": "code",
   "execution_count": 6,
   "metadata": {},
   "outputs": [
    {
     "data": {
      "text/plain": [
       "dict_items([('安', '安らぎ'), ('楽', '楽しさ'), ('親', '親しみ'), ('尊', '尊敬・尊さ'), ('感', '感謝'), ('気', '気持ちが良い'), ('誇', '誇らしい'), ('動', '感動'), ('喜', '喜び'), ('悲', '悲しさ'), ('寂', '寂しさ'), ('不', '不満'), ('切', '切なさ'), ('苦', '苦しさ'), ('ふ', '不安'), ('鬱', '憂鬱'), ('辛', '辛さ'), ('好', '好き'), ('嫌', '嫌悪'), ('恥', '恥ずかしい'), ('焦', '焦り'), ('驚', '驚き'), ('怒', '怒り'), ('幸', '幸福感'), ('恨', '恨み'), ('恐', '恐れ（恐縮等の意味で）'), ('怖', '恐怖'), ('悔', '悔しさ'), ('祝', '祝う気持ち'), ('困', '困惑'), ('き', 'きまずさ'), ('興', '興奮'), ('悩', '悩み'), ('願', '願望'), ('失', '失望'), ('憐', 'あわれみ'), ('見', '見下し'), ('謝', '謝罪'), ('た', 'ためらい'), ('Ｆ', '不快'), ('怠', '怠さ'), ('あ', 'あきれ'), ('心', '心配'), ('緊', '緊張'), ('妬', '妬み'), ('憎', '憎い'), ('残', '残念'), ('情', '情けない'), ('穏', '穏やか'), ('面', '')])"
      ]
     },
     "execution_count": 6,
     "metadata": {},
     "output_type": "execute_result"
    }
   ],
   "source": [
    "emotion_map = {row['Symbol']: row['Emotion'] for index, row in available_emotions.iterrows()}\n",
    "emotion_map.update({'面':''})\n",
    "emotion_map.items()"
   ]
  },
  {
   "cell_type": "markdown",
   "metadata": {},
   "source": [
    "One expression may have multiple emotions assigned. Prepare map of all expressions with mapped emotions."
   ]
  },
  {
   "cell_type": "code",
   "execution_count": 7,
   "metadata": {},
   "outputs": [],
   "source": [
    "elookup_raw = {row['Word']: [emotion_map[emotion] \n",
    "                         for emotion in list(row['Emotion'])] for index, row in ecorp.iterrows()}"
   ]
  },
  {
   "cell_type": "markdown",
   "metadata": {},
   "source": [
    "## Tokenize and \"stemming\"\n",
    "Tokenize/\"Stem\" each expression and duplicate emotions to both parts. Do not assign emotions to tokens that only consist of one kana."
   ]
  },
  {
   "cell_type": "code",
   "execution_count": 8,
   "metadata": {},
   "outputs": [],
   "source": [
    "elookup = dict()\n",
    "for exp, emotion in elookup_raw.items():\n",
    "    for word in mk.getWS(exp):\n",
    "        if word not in kana:\n",
    "            elookup[word] = set(emotion)"
   ]
  },
  {
   "cell_type": "code",
   "execution_count": 9,
   "metadata": {
    "scrolled": false
   },
   "outputs": [
    {
     "name": "stdout",
     "output_type": "stream",
     "text": [
      "['不満']\n",
      "{'不満'}\n"
     ]
    }
   ],
   "source": [
    "print(elookup_raw['飽き足りる'])\n",
    "print(elookup['飽き足り'])"
   ]
  },
  {
   "cell_type": "markdown",
   "metadata": {},
   "source": [
    "## Test corpus"
   ]
  },
  {
   "cell_type": "code",
   "execution_count": 10,
   "metadata": {
    "scrolled": true
   },
   "outputs": [
    {
     "name": "stdout",
     "output_type": "stream",
     "text": [
      "あなた\n",
      "毛布\n",
      "取\n",
      "ら\n",
      "な\n",
      "い\n",
      "で\n"
     ]
    }
   ],
   "source": [
    "s = 'あなた毛布取らないで'\n",
    "for word in mk.getWS(s):\n",
    "    print(word)"
   ]
  },
  {
   "cell_type": "code",
   "execution_count": 11,
   "metadata": {},
   "outputs": [],
   "source": [
    "# emotion lookup\n",
    "def emotions(s):\n",
    "    emotions = set()\n",
    "    for word in mk.getWS(s):\n",
    "        if word in elookup:\n",
    "            emotions.update(elookup[word])\n",
    "    return emotions"
   ]
  },
  {
   "cell_type": "code",
   "execution_count": 12,
   "metadata": {},
   "outputs": [
    {
     "data": {
      "text/plain": [
       "[('あなた毛布取らないで', {'あきれ', '困惑'}),\n",
       " ('あなたもう太らないで', set()),\n",
       " ('友達が寂しい', {'寂しさ'}),\n",
       " ('おお味噌か?', {'驚き'}),\n",
       " ('ひと月居てもいい？', set()),\n",
       " ('隣には誰もいなくて彼も寂しい', {'寂しさ'}),\n",
       " ('カナリヤ少ない', set()),\n",
       " ('バナナを食べましたが美味しかった', {'喜び', '安らぎ', '穏やか'}),\n",
       " ('文句を言ったら怒られた', {'不満', '怒り'})]"
      ]
     },
     "execution_count": 12,
     "metadata": {},
     "output_type": "execute_result"
    }
   ],
   "source": [
    "sentences = ['あなた毛布取らないで', 'あなたもう太らないで', '友達が寂しい',\n",
    "            'おお味噌か?','ひと月居てもいい？','隣には誰もいなくて彼も寂しい','カナリヤ少ない','バナナを食べましたが美味しかった',\n",
    "            '文句を言ったら怒られた']\n",
    "[(sentence, emotions(sentence)) for sentence in sentences]"
   ]
  },
  {
   "cell_type": "markdown",
   "metadata": {},
   "source": [
    "## PCA text similarity"
   ]
  },
  {
   "cell_type": "code",
   "execution_count": 13,
   "metadata": {},
   "outputs": [],
   "source": [
    "import tinysegmenter\n",
    "from sklearn.feature_extraction.text import TfidfVectorizer\n",
    "from scipy.sparse.linalg import svds\n",
    "import numpy as np\n",
    "segmenter = tinysegmenter.TinySegmenter()\n",
    "tf = TfidfVectorizer(ngram_range=(1,1),tokenizer=segmenter.tokenize)\n",
    "#tf = TfidfVectorizer(analyzer='word', min_df = 0, tokenizer=jap_tokenizer)"
   ]
  },
  {
   "cell_type": "code",
   "execution_count": 14,
   "metadata": {
    "scrolled": true
   },
   "outputs": [
    {
     "name": "stdout",
     "output_type": "stream",
     "text": [
      "  (0, 10)\t0.42411161003575265\n",
      "  (0, 11)\t0.36875280221087015\n",
      "  (0, 24)\t0.5021354674424993\n",
      "  (0, 33)\t0.5021354674424993\n",
      "  (0, 1)\t0.42411161003575265\n",
      "  (1, 26)\t0.5021354674424993\n",
      "  (1, 18)\t0.5021354674424993\n",
      "  (1, 10)\t0.42411161003575265\n",
      "  (1, 11)\t0.36875280221087015\n",
      "  (1, 1)\t0.42411161003575265\n",
      "  (2, 27)\t0.5421838232760536\n",
      "  (2, 5)\t0.5421838232760536\n",
      "  (2, 23)\t0.641929438143728\n",
      "  (3, 0)\t0.5\n",
      "  (3, 4)\t0.5\n",
      "  (3, 25)\t0.5\n",
      "  (3, 3)\t0.5\n",
      "  (4, 39)\t0.4292694759940851\n",
      "  (4, 2)\t0.4292694759940851\n",
      "  (4, 17)\t0.36256783359742106\n",
      "  (4, 9)\t0.36256783359742106\n",
      "  (4, 29)\t0.4292694759940851\n",
      "  (4, 15)\t0.4292694759940851\n",
      "  (5, 30)\t0.35049705944580706\n",
      "  (5, 12)\t0.35049705944580706\n",
      "  (5, 36)\t0.35049705944580706\n",
      "  (5, 14)\t0.35049705944580706\n",
      "  (5, 13)\t0.35049705944580706\n",
      "  (5, 37)\t0.35049705944580706\n",
      "  (5, 17)\t0.296035396486667\n",
      "  (5, 9)\t0.296035396486667\n",
      "  (5, 27)\t0.296035396486667\n",
      "  (6, 28)\t0.6275425225049098\n",
      "  (6, 21)\t0.6275425225049098\n",
      "  (6, 11)\t0.4608478760896584\n",
      "  (7, 6)\t0.3282615487985614\n",
      "  (7, 34)\t0.3282615487985614\n",
      "  (7, 7)\t0.5545098603883424\n",
      "  (7, 16)\t0.3282615487985614\n",
      "  (7, 38)\t0.3282615487985614\n",
      "  (7, 20)\t0.2772549301941712\n",
      "  (7, 22)\t0.3282615487985614\n",
      "  (7, 5)\t0.2772549301941712\n",
      "  (8, 19)\t0.3944611401980754\n",
      "  (8, 31)\t0.3944611401980754\n",
      "  (8, 8)\t0.3944611401980754\n",
      "  (8, 35)\t0.3944611401980754\n",
      "  (8, 32)\t0.3944611401980754\n",
      "  (8, 7)\t0.3331681590189642\n",
      "  (8, 20)\t0.3331681590189642\n"
     ]
    },
    {
     "data": {
      "text/plain": [
       "<9x40 sparse matrix of type '<class 'numpy.float64'>'\n",
       "\twith 50 stored elements in Compressed Sparse Row format>"
      ]
     },
     "execution_count": 14,
     "metadata": {},
     "output_type": "execute_result"
    }
   ],
   "source": [
    "tfidf_matrix =  tf.fit_transform(sentences)\n",
    "print(tfidf_matrix)\n",
    "tfidf_matrix"
   ]
  },
  {
   "cell_type": "code",
   "execution_count": 15,
   "metadata": {},
   "outputs": [
    {
     "name": "stdout",
     "output_type": "stream",
     "text": [
      "[[-4.80126111e-17  0.00000000e+00]\n",
      " [ 1.70617203e-16 -4.40413535e-01]\n",
      " [ 8.40318632e-02  5.66382086e-17]\n",
      " [-4.80126111e-17  0.00000000e+00]\n",
      " [-4.80126111e-17  0.00000000e+00]\n",
      " [ 3.54009377e-01  1.49982495e-16]\n",
      " [ 1.73619409e-01  5.05296516e-17]\n",
      " [ 4.38294002e-01  1.21988390e-16]\n",
      " [ 1.71688177e-01  4.33713040e-17]\n",
      " [ 1.61882384e-01  9.99164418e-17]\n",
      " [ 1.70617203e-16 -4.40413535e-01]\n",
      " [ 2.36852772e-16 -5.20046778e-01]\n",
      " [ 1.07632040e-01  6.16598715e-17]\n",
      " [ 1.07632040e-01  6.16598715e-17]\n",
      " [ 1.07632040e-01  6.16598715e-17]\n",
      " [ 8.40318632e-02  5.66382086e-17]\n",
      " [ 1.73619409e-01  5.05296516e-17]\n",
      " [ 1.61882384e-01  9.99164418e-17]\n",
      " [ 1.29679163e-16 -2.60718230e-01]\n",
      " [ 1.71688177e-01  4.33713040e-17]\n",
      " [ 2.91652285e-01  7.93102421e-17]\n",
      " [ 1.20519820e-16 -1.86717974e-01]\n",
      " [ 1.73619409e-01  5.05296516e-17]\n",
      " [ 2.45517110e-01  1.27045139e-16]\n",
      " [ 7.23265047e-17 -2.60718230e-01]\n",
      " [-4.80126111e-17  0.00000000e+00]\n",
      " [ 1.29679163e-16 -2.60718230e-01]\n",
      " [ 2.98275394e-01  1.59383256e-16]\n",
      " [ 1.20519820e-16 -1.86717974e-01]\n",
      " [ 8.40318632e-02  5.66382086e-17]\n",
      " [ 1.07632040e-01  6.16598715e-17]\n",
      " [ 1.71688177e-01  4.33713040e-17]\n",
      " [ 1.71688177e-01  4.33713040e-17]\n",
      " [ 7.23265047e-17 -2.60718230e-01]\n",
      " [ 1.73619409e-01  5.05296516e-17]\n",
      " [ 1.71688177e-01  4.33713040e-17]\n",
      " [ 1.07632040e-01  6.16598715e-17]\n",
      " [ 1.07632040e-01  6.16598715e-17]\n",
      " [ 1.73619409e-01  5.05296516e-17]\n",
      " [ 8.40318632e-02  5.66382086e-17]] [1.15617855 1.26218202] [[ 1.66533454e-16  2.98589278e-16  4.42200653e-01 -1.11022302e-16\n",
      "   2.26328317e-01  3.55043939e-01  2.22044605e-16  6.11509445e-01\n",
      "   5.03223684e-01]\n",
      " [-6.55348771e-01 -6.55348771e-01  2.49800181e-16  0.00000000e+00\n",
      "   1.66533454e-16  2.22044605e-16 -3.75547570e-01  1.94289029e-16\n",
      "   1.38777878e-16]]\n"
     ]
    }
   ],
   "source": [
    "U,s,V = svds( np.transpose(tfidf_matrix), k=2)\n",
    "print(U,s,V)"
   ]
  },
  {
   "cell_type": "code",
   "execution_count": 16,
   "metadata": {},
   "outputs": [],
   "source": [
    "k=2\n",
    "Sk= np.identity(k) \n",
    "for i in range(k):\n",
    "    Sk[i,i]=s[i]"
   ]
  },
  {
   "cell_type": "code",
   "execution_count": 17,
   "metadata": {},
   "outputs": [
    {
     "name": "stdout",
     "output_type": "stream",
     "text": [
      "[[1.15617855 0.        ]\n",
      " [0.         1.26218202]]\n"
     ]
    }
   ],
   "source": [
    "print(Sk)"
   ]
  },
  {
   "cell_type": "code",
   "execution_count": 18,
   "metadata": {},
   "outputs": [
    {
     "name": "stdout",
     "output_type": "stream",
     "text": [
      "[[-5.55111512e-17  0.00000000e+00]\n",
      " [ 1.97263951e-16 -5.55882045e-01]\n",
      " [ 9.71558380e-02  7.14877284e-17]\n",
      " [-5.55111512e-17  0.00000000e+00]\n",
      " [-5.55111512e-17  0.00000000e+00]\n",
      " [ 4.09298049e-01  1.89305208e-16]\n",
      " [ 2.00735038e-01  6.37776177e-17]\n",
      " [ 5.06746125e-01  1.53971553e-16]\n",
      " [ 1.98502188e-01  5.47424800e-17]\n",
      " [ 1.87164941e-01  1.26112736e-16]\n",
      " [ 1.97263951e-16 -5.55882045e-01]\n",
      " [ 2.73844095e-16 -6.56393691e-01]\n",
      " [ 1.24441856e-01  7.78259811e-17]\n",
      " [ 1.24441856e-01  7.78259811e-17]\n",
      " [ 1.24441856e-01  7.78259811e-17]\n",
      " [ 9.71558380e-02  7.14877284e-17]\n",
      " [ 2.00735038e-01  6.37776177e-17]\n",
      " [ 1.87164941e-01  1.26112736e-16]\n",
      " [ 1.49932267e-16 -3.29073861e-01]\n",
      " [ 1.98502188e-01  5.47424800e-17]\n",
      " [ 3.37202117e-01  1.00103961e-16]\n",
      " [ 1.39342431e-16 -2.35672070e-01]\n",
      " [ 2.00735038e-01  6.37776177e-17]\n",
      " [ 2.83861617e-01  1.60354090e-16]\n",
      " [ 8.36223536e-17 -3.29073861e-01]\n",
      " [-5.55111512e-17  0.00000000e+00]\n",
      " [ 1.49932267e-16 -3.29073861e-01]\n",
      " [ 3.44859614e-01  2.01170680e-16]\n",
      " [ 1.39342431e-16 -2.35672070e-01]\n",
      " [ 9.71558380e-02  7.14877284e-17]\n",
      " [ 1.24441856e-01  7.78259811e-17]\n",
      " [ 1.98502188e-01  5.47424800e-17]\n",
      " [ 1.98502188e-01  5.47424800e-17]\n",
      " [ 8.36223536e-17 -3.29073861e-01]\n",
      " [ 2.00735038e-01  6.37776177e-17]\n",
      " [ 1.98502188e-01  5.47424800e-17]\n",
      " [ 1.24441856e-01  7.78259811e-17]\n",
      " [ 1.24441856e-01  7.78259811e-17]\n",
      " [ 2.00735038e-01  6.37776177e-17]\n",
      " [ 9.71558380e-02  7.14877284e-17]]\n",
      "[[ 1.92542408e-16 -8.27169434e-01]\n",
      " [ 3.45222520e-16 -8.27169434e-01]\n",
      " [ 5.11262911e-01  3.15293296e-16]\n",
      " [-1.28361605e-16  0.00000000e+00]\n",
      " [ 2.61675946e-01  2.10195531e-16]\n",
      " [ 4.10494188e-01  2.80260708e-16]\n",
      " [ 2.56723210e-16 -4.74009390e-01]\n",
      " [ 7.07014106e-01  2.45228119e-16]\n",
      " [ 5.81816431e-01  1.75162942e-16]]\n"
     ]
    }
   ],
   "source": [
    "term_vec_2 = np.dot(U, Sk)\n",
    "doc_vec_2 = np.dot(Sk, V)\n",
    "print(term_vec_2)\n",
    "print(doc_vec_2.transpose())"
   ]
  },
  {
   "cell_type": "code",
   "execution_count": 19,
   "metadata": {},
   "outputs": [],
   "source": [
    "import matplotlib.pyplot as plt\n",
    "%matplotlib inline"
   ]
  },
  {
   "cell_type": "code",
   "execution_count": 20,
   "metadata": {},
   "outputs": [
    {
     "data": {
      "image/png": "[encoded data removed]",
      "text/plain": [
       "<Figure size 432x288 with 1 Axes>"
      ]
     },
     "metadata": {
      "needs_background": "light"
     },
     "output_type": "display_data"
    }
   ],
   "source": [
    "plt.plot(doc_vec_2[0,:], doc_vec_2[1,:], 'bo')\n",
    "nDoc=['s 1','s 2', 's 3', 's 4', 's 5','s 6','s 7', 's 8', 's 9']\n",
    "   \n",
    "for i, txt in enumerate(nDoc):\n",
    "    plt.annotate(txt, (doc_vec_2[0,i],doc_vec_2[1,i]))\n",
    "\n",
    "plt.axis([-1.0,1,-0.5,1])\n",
    "plt.show()"
   ]
  },
  {
   "cell_type": "code",
   "execution_count": null,
   "metadata": {},
   "outputs": [],
   "source": []
  }
 ],
 "metadata": {
  "kernelspec": {
   "display_name": "Python 3",
   "language": "python",
   "name": "python3"
  },
  "language_info": {
   "codemirror_mode": {
    "name": "ipython",
    "version": 3
   },
   "file_extension": ".py",
   "mimetype": "text/x-python",
   "name": "python",
   "nbconvert_exporter": "python",
   "pygments_lexer": "ipython3",
   "version": "3.7.6"
  }
 },
 "nbformat": 4,
 "nbformat_minor": 2
}
