{
 "cells": [
  {
   "cell_type": "markdown",
   "metadata": {},
   "source": [
    "# Japanese emotion analysis\n",
    "Based on SNOW D18: Japanese Emotional Expression Dictionary from http://www.jnlp.org/SNOW/D18\n",
    "\n",
    "Further corpuses available: https://lionbridge.ai/datasets/japanese-language-text-datasets/"
   ]
  },
  {
   "cell_type": "markdown",
   "metadata": {},
   "source": [
    "## Prerequisites\n",
    "kytea required to tokenize Japanese text. Install using\n",
    "```\n",
    "wget http://www.phontron.com/kytea/download/kytea-0.4.7.tar.gz\n",
    "tar -xvf kytea-0.4.7.tar\n",
    "cd kytea-0.4.7\n",
    "./configure\n",
    "make\n",
    "make install\n",
    "```"
   ]
  },
  {
   "cell_type": "markdown",
   "metadata": {},
   "source": [
    "## Prepare tokenizer\n",
    "Use Mykytea tokenizer to split text. Prepare also a set of kanas to avoid assigning emotions to kanas."
   ]
  },
  {
   "cell_type": "code",
   "execution_count": 264,
   "metadata": {},
   "outputs": [],
   "source": [
    "import Mykytea"
   ]
  },
  {
   "cell_type": "code",
   "execution_count": 265,
   "metadata": {},
   "outputs": [],
   "source": [
    "opt = \"-model /usr/local/share/kytea/model.bin\"\n",
    "mk = Mykytea.Mykytea(opt)"
   ]
  },
  {
   "cell_type": "code",
   "execution_count": 266,
   "metadata": {},
   "outputs": [],
   "source": [
    "# hiragana, katakana and unionedkanas\n",
    "hira = {chr(l) for l in range(12353,12439)}\n",
    "kata = {chr(l) for l in range(12449,12539)}\n",
    "kana = hira.union(kata)"
   ]
  },
  {
   "cell_type": "markdown",
   "metadata": {},
   "source": [
    "## Prepare emotion corpus\n",
    "Load emotion corpus with expressions and multiple assigned emotions per expression. \n",
    "Prepare tokenized and \"stemmed\" dictionary for emotions lookup in next step."
   ]
  },
  {
   "cell_type": "code",
   "execution_count": 205,
   "metadata": {},
   "outputs": [],
   "source": [
    "import pandas as pd"
   ]
  },
  {
   "cell_type": "code",
   "execution_count": 208,
   "metadata": {},
   "outputs": [
    {
     "name": "stdout",
     "output_type": "stream",
     "text": [
      "       Word Katakana Emotion\n",
      "0         哀       アイ       悲\n",
      "1         愛       アイ       好\n",
      "2     相いれない   アイイレナイ       嫌\n",
      "3        哀感     アイカン       悲\n",
      "4        愛敬    アイキョウ      好親\n",
      "...     ...      ...     ...\n",
      "1973    悪賢い   ワルガシコイ       嫌\n",
      "1974   悪びれる    ワルビレル       謝\n",
      "1975  我を忘れる  ワレオワスレル       興\n",
      "1976     わぁ       ワー       喜\n",
      "1977    わーい      ワーイ       喜\n",
      "\n",
      "[1978 rows x 3 columns]\n",
      "        Emotion Symbol\n",
      "0           安らぎ      安\n",
      "1           楽しさ      楽\n",
      "2           親しみ      親\n",
      "3         尊敬・尊さ      尊\n",
      "4            感謝      感\n",
      "5        気持ちが良い      気\n",
      "6          誇らしい      誇\n",
      "7            感動      動\n",
      "8            喜び      喜\n",
      "9           悲しさ      悲\n",
      "10          寂しさ      寂\n",
      "11           不満      不\n",
      "12          切なさ      切\n",
      "13          苦しさ      苦\n",
      "14           不安      ふ\n",
      "15           憂鬱      鬱\n",
      "16           辛さ      辛\n",
      "17           好き      好\n",
      "18           嫌悪      嫌\n",
      "19        恥ずかしい      恥\n",
      "20           焦り      焦\n",
      "21           驚き      驚\n",
      "22           怒り      怒\n",
      "23          幸福感      幸\n",
      "24           恨み      恨\n",
      "25  恐れ（恐縮等の意味で）      恐\n",
      "26           恐怖      怖\n",
      "27          悔しさ      悔\n",
      "28        祝う気持ち      祝\n",
      "29           困惑      困\n",
      "30         きまずさ      き\n",
      "31           興奮      興\n",
      "32           悩み      悩\n",
      "33           願望      願\n",
      "34           失望      失\n",
      "35         あわれみ      憐\n",
      "36          見下し      見\n",
      "37           謝罪      謝\n",
      "38         ためらい      た\n",
      "39           不快      Ｆ\n",
      "40           怠さ      怠\n",
      "41          あきれ      あ\n",
      "42           心配      心\n",
      "43           緊張      緊\n",
      "44           妬み      妬\n",
      "45           憎い      憎\n",
      "46           残念      残\n",
      "47         情けない      情\n",
      "48          穏やか      穏\n"
     ]
    }
   ],
   "source": [
    "ecorp = pd.read_csv('data/D18-2018.7.24.csv')\n",
    "print(ecorp)\n",
    "available_emotions = pd.read_csv('data/emotion_assignment.csv')\n",
    "print(available_emotions)"
   ]
  },
  {
   "cell_type": "markdown",
   "metadata": {},
   "source": [
    "Prepare dictionary to map short form of emotion to more understandable longer form of emtion: 悲 -> 悲しさ or 恐 -> 恐れ（恐縮等の意味で）"
   ]
  },
  {
   "cell_type": "code",
   "execution_count": 209,
   "metadata": {},
   "outputs": [
    {
     "data": {
      "text/plain": [
       "dict_items([('安', '安らぎ'), ('楽', '楽しさ'), ('親', '親しみ'), ('尊', '尊敬・尊さ'), ('感', '感謝'), ('気', '気持ちが良い'), ('誇', '誇らしい'), ('動', '感動'), ('喜', '喜び'), ('悲', '悲しさ'), ('寂', '寂しさ'), ('不', '不満'), ('切', '切なさ'), ('苦', '苦しさ'), ('ふ', '不安'), ('鬱', '憂鬱'), ('辛', '辛さ'), ('好', '好き'), ('嫌', '嫌悪'), ('恥', '恥ずかしい'), ('焦', '焦り'), ('驚', '驚き'), ('怒', '怒り'), ('幸', '幸福感'), ('恨', '恨み'), ('恐', '恐れ（恐縮等の意味で）'), ('怖', '恐怖'), ('悔', '悔しさ'), ('祝', '祝う気持ち'), ('困', '困惑'), ('き', 'きまずさ'), ('興', '興奮'), ('悩', '悩み'), ('願', '願望'), ('失', '失望'), ('憐', 'あわれみ'), ('見', '見下し'), ('謝', '謝罪'), ('た', 'ためらい'), ('Ｆ', '不快'), ('怠', '怠さ'), ('あ', 'あきれ'), ('心', '心配'), ('緊', '緊張'), ('妬', '妬み'), ('憎', '憎い'), ('残', '残念'), ('情', '情けない'), ('穏', '穏やか'), ('面', '')])"
      ]
     },
     "execution_count": 209,
     "metadata": {},
     "output_type": "execute_result"
    }
   ],
   "source": [
    "emotion_map = {row['Symbol']: row['Emotion'] for index, row in available_emotions.iterrows()}\n",
    "emotion_map.update({'面':''})\n",
    "emotion_map.items()"
   ]
  },
  {
   "cell_type": "markdown",
   "metadata": {},
   "source": [
    "One expression may have multiple emotions assigned. Prepare map of all expressions with mapped emotions."
   ]
  },
  {
   "cell_type": "code",
   "execution_count": 170,
   "metadata": {},
   "outputs": [],
   "source": [
    "elookup_raw = {row['Word']: [emotion_map[emotion] \n",
    "                         for emotion in list(row['Emotion'])] for index, row in ecorp.iterrows()}"
   ]
  },
  {
   "cell_type": "markdown",
   "metadata": {},
   "source": [
    "## Tokenize and \"stemming\"\n",
    "Tokenize/\"Stem\" each expression and duplicate emotions to both parts. Do not assign emotions to tokens that only consist of one kana."
   ]
  },
  {
   "cell_type": "code",
   "execution_count": 210,
   "metadata": {},
   "outputs": [],
   "source": [
    "elookup = dict()\n",
    "for exp, emotion in elookup_raw.items():\n",
    "    for word in mk.getWS(exp):\n",
    "        if word not in kana:\n",
    "            elookup[word] = emotion"
   ]
  },
  {
   "cell_type": "code",
   "execution_count": 214,
   "metadata": {
    "scrolled": false
   },
   "outputs": [
    {
     "name": "stdout",
     "output_type": "stream",
     "text": [
      "['不満']\n",
      "['不満']\n"
     ]
    }
   ],
   "source": [
    "print(elookup_raw['飽き足りる'])\n",
    "print(elookup['飽き足り'])"
   ]
  },
  {
   "cell_type": "markdown",
   "metadata": {},
   "source": [
    "## Test corpus"
   ]
  },
  {
   "cell_type": "code",
   "execution_count": 215,
   "metadata": {
    "scrolled": true
   },
   "outputs": [
    {
     "name": "stdout",
     "output_type": "stream",
     "text": [
      "あなた\n",
      "毛布\n",
      "取\n",
      "ら\n",
      "な\n",
      "い\n",
      "で\n"
     ]
    }
   ],
   "source": [
    "s = 'あなた毛布取らないで'\n",
    "for word in mk.getWS(s):\n",
    "    print(word)"
   ]
  },
  {
   "cell_type": "code",
   "execution_count": 261,
   "metadata": {},
   "outputs": [],
   "source": [
    "# emotion lookup\n",
    "def emotions(s):\n",
    "    emotions = set()\n",
    "    for word in mk.getWS(s):\n",
    "        if word in elookup:\n",
    "            emotions.update(elookup[word])\n",
    "    return emotions"
   ]
  },
  {
   "cell_type": "code",
   "execution_count": 262,
   "metadata": {},
   "outputs": [
    {
     "data": {
      "text/plain": [
       "[('あなた毛布取らないで', {'あきれ', '困惑'}),\n",
       " ('あなたもう太らないで', set()),\n",
       " ('友達が寂しい', {'寂しさ'}),\n",
       " ('おお味噌か?', {'驚き'}),\n",
       " ('ひと月居てもいい？', set()),\n",
       " ('音した？', set()),\n",
       " ('カナリヤ少ない', set()),\n",
       " ('バナナを食べましたが美味しかった', {'喜び', '安らぎ', '穏やか'}),\n",
       " ('文句を言ったら怒られた', {'不満', '怒り'})]"
      ]
     },
     "execution_count": 262,
     "metadata": {},
     "output_type": "execute_result"
    }
   ],
   "source": [
    "sentences = ['あなた毛布取らないで', 'あなたもう太らないで', '友達が寂しい',\n",
    "            'おお味噌か?','ひと月居てもいい？','音した？','カナリヤ少ない','バナナを食べましたが美味しかった',\n",
    "            '文句を言ったら怒られた']\n",
    "[(sentence, emotions(sentence)) for sentence in sentences]"
   ]
  }
 ],
 "metadata": {
  "kernelspec": {
   "display_name": "Python 3",
   "language": "python",
   "name": "python3"
  },
  "language_info": {
   "codemirror_mode": {
    "name": "ipython",
    "version": 3
   },
   "file_extension": ".py",
   "mimetype": "text/x-python",
   "name": "python",
   "nbconvert_exporter": "python",
   "pygments_lexer": "ipython3",
   "version": "3.7.5"
  }
 },
 "nbformat": 4,
 "nbformat_minor": 2
}
