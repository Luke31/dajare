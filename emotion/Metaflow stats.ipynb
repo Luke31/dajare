{
 "cells": [
  {
   "cell_type": "markdown",
   "metadata": {},
   "source": [
    "# Metaflow stats"
   ]
  },
  {
   "cell_type": "code",
   "execution_count": 3,
   "metadata": {},
   "outputs": [],
   "source": [
    "from metaflow import Flow, get_metadata"
   ]
  },
  {
   "cell_type": "code",
   "execution_count": 4,
   "metadata": {},
   "outputs": [
    {
     "name": "stdout",
     "output_type": "stream",
     "text": [
      "Using metadata provider: local@/home/lukas/git/dajare/emotion\n"
     ]
    }
   ],
   "source": [
    "print(\"Using metadata provider: %s\" % get_metadata())"
   ]
  },
  {
   "cell_type": "code",
   "execution_count": 5,
   "metadata": {},
   "outputs": [
    {
     "name": "stdout",
     "output_type": "stream",
     "text": [
      "Using analysis from 'Run('EmotionFlow/1577517634544539')'\n"
     ]
    }
   ],
   "source": [
    "run = Flow(\"EmotionFlow\").latest_successful_run\n",
    "print(\"Using analysis from '%s'\" % str(run))"
   ]
  },
  {
   "cell_type": "code",
   "execution_count": 8,
   "metadata": {},
   "outputs": [
    {
     "name": "stdout",
     "output_type": "stream",
     "text": [
      "       Word Katakana Emotion\n",
      "0         哀       アイ       悲\n",
      "1         愛       アイ       好\n",
      "2     相いれない   アイイレナイ       嫌\n",
      "3        哀感     アイカン       悲\n",
      "4        愛敬    アイキョウ      好親\n",
      "...     ...      ...     ...\n",
      "1973    悪賢い   ワルガシコイ       嫌\n",
      "1974   悪びれる    ワルビレル       謝\n",
      "1975  我を忘れる  ワレオワスレル       興\n",
      "1976     わぁ       ワー       喜\n",
      "1977    わーい      ワーイ       喜\n",
      "\n",
      "[1978 rows x 3 columns]\n",
      "        Emotion Symbol\n",
      "0           安らぎ      安\n",
      "1           楽しさ      楽\n",
      "2           親しみ      親\n",
      "3         尊敬・尊さ      尊\n",
      "4            感謝      感\n",
      "5        気持ちが良い      気\n",
      "6          誇らしい      誇\n",
      "7            感動      動\n",
      "8            喜び      喜\n",
      "9           悲しさ      悲\n",
      "10          寂しさ      寂\n",
      "11           不満      不\n",
      "12          切なさ      切\n",
      "13          苦しさ      苦\n",
      "14           不安      ふ\n",
      "15           憂鬱      鬱\n",
      "16           辛さ      辛\n",
      "17           好き      好\n",
      "18           嫌悪      嫌\n",
      "19        恥ずかしい      恥\n",
      "20           焦り      焦\n",
      "21           驚き      驚\n",
      "22           怒り      怒\n",
      "23          幸福感      幸\n",
      "24           恨み      恨\n",
      "25  恐れ（恐縮等の意味で）      恐\n",
      "26           恐怖      怖\n",
      "27          悔しさ      悔\n",
      "28        祝う気持ち      祝\n",
      "29           困惑      困\n",
      "30         きまずさ      き\n",
      "31           興奮      興\n",
      "32           悩み      悩\n",
      "33           願望      願\n",
      "34           失望      失\n",
      "35         あわれみ      憐\n",
      "36          見下し      見\n",
      "37           謝罪      謝\n",
      "38         ためらい      た\n",
      "39           不快      Ｆ\n",
      "40           怠さ      怠\n",
      "41          あきれ      あ\n",
      "42           心配      心\n",
      "43           緊張      緊\n",
      "44           妬み      妬\n",
      "45           憎い      憎\n",
      "46           残念      残\n",
      "47         情けない      情\n",
      "48          穏やか      穏\n"
     ]
    }
   ],
   "source": [
    "run_data = run['load'].task.data\n",
    "ecorp = run_data.ecorp\n",
    "available_emotions = run['load'].task.data.available_emotions\n",
    "print(ecorp)\n",
    "print(available_emotions)"
   ]
  },
  {
   "cell_type": "markdown",
   "metadata": {},
   "source": [
    "## Analysis"
   ]
  },
  {
   "cell_type": "code",
   "execution_count": null,
   "metadata": {},
   "outputs": [],
   "source": [
    "#lookup building\n",
    "print(run_data.elookup_raw['飽き足りる'])\n",
    "print(run_data.elookup['飽き足り'])"
   ]
  }
 ],
 "metadata": {
  "kernelspec": {
   "display_name": "Python 3",
   "language": "python",
   "name": "python3"
  },
  "language_info": {
   "codemirror_mode": {
    "name": "ipython",
    "version": 3
   },
   "file_extension": ".py",
   "mimetype": "text/x-python",
   "name": "python",
   "nbconvert_exporter": "python",
   "pygments_lexer": "ipython3",
   "version": "3.7.5"
  }
 },
 "nbformat": 4,
 "nbformat_minor": 2
}
